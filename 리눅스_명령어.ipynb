{
  "nbformat": 4,
  "nbformat_minor": 0,
  "metadata": {
    "colab": {
      "name": "강의_리눅스_명령어_1차_05_05최종안.ipynb",
      "provenance": [],
      "collapsed_sections": [],
      "toc_visible": true
    },
    "kernelspec": {
      "name": "python3",
      "display_name": "Python 3"
    },
    "language_info": {
      "name": "python"
    }
  },
  "cells": [
    {
      "cell_type": "markdown",
      "metadata": {
        "id": "ObPqQde9vu8n"
      },
      "source": [
        "# 리눅스 명령어\n",
        "\n",
        "colab 에서 ! 뒤에 리눅스 명령어를 쓰면 터미널에서 작동하는 것으로 처리해준다.  \n"
      ]
    },
    {
      "cell_type": "markdown",
      "metadata": {
        "id": "IjYtnosUDy22"
      },
      "source": [
        "## ls\n",
        "\n",
        "현재 디렉토리 리스트 보기\n",
        "\n",
        "    !ls 옵션\n",
        "\n",
        "[간단한 옵션 설명]\n",
        "\n",
        "    -a : 숨겨진 파일이나 디렉토리 보기\n",
        "    -l : 자세한 내용 출력 -> (권한, 포함된 파일수, 소유자, 그룹, 파일크기, 수정일자, 파일이름)\n",
        "    -S : 파일 크기 순으로 정렬하여 출력\n",
        "    -r : 거꾸로 출력\n",
        "    -R : 하위 디렉토리까지 출력"
      ]
    },
    {
      "cell_type": "code",
      "metadata": {
        "colab": {
          "base_uri": "https://localhost:8080/"
        },
        "id": "CoOwjFIVDvo5",
        "outputId": "5ce5a788-15b9-4bfa-9ccc-4d47a65d21ff"
      },
      "source": [
        "!ls"
      ],
      "execution_count": 1,
      "outputs": [
        {
          "output_type": "stream",
          "text": [
            "sample_data\n"
          ],
          "name": "stdout"
        }
      ]
    },
    {
      "cell_type": "code",
      "metadata": {
        "colab": {
          "base_uri": "https://localhost:8080/"
        },
        "id": "NysP-h2eZ9lN",
        "outputId": "5ce1bae0-1475-4664-94d1-e330519b7721"
      },
      "source": [
        "!ls -a"
      ],
      "execution_count": 2,
      "outputs": [
        {
          "output_type": "stream",
          "text": [
            ".  ..  .config\tsample_data\n"
          ],
          "name": "stdout"
        }
      ]
    },
    {
      "cell_type": "code",
      "metadata": {
        "colab": {
          "base_uri": "https://localhost:8080/"
        },
        "id": "MDyljokPaHEJ",
        "outputId": "dfdd4177-e52b-4a48-9e39-80304c1620a7"
      },
      "source": [
        "!ls -l"
      ],
      "execution_count": 3,
      "outputs": [
        {
          "output_type": "stream",
          "text": [
            "total 4\n",
            "drwxr-xr-x 1 root root 4096 Apr 21 13:39 sample_data\n"
          ],
          "name": "stdout"
        }
      ]
    },
    {
      "cell_type": "code",
      "metadata": {
        "colab": {
          "base_uri": "https://localhost:8080/"
        },
        "id": "JNzx-wfcaU0O",
        "outputId": "c9c954df-9255-467d-dd64-a557fb2217cb"
      },
      "source": [
        "!ls -aS"
      ],
      "execution_count": 4,
      "outputs": [
        {
          "output_type": "stream",
          "text": [
            ".  ..  .config\tsample_data\n"
          ],
          "name": "stdout"
        }
      ]
    },
    {
      "cell_type": "code",
      "metadata": {
        "colab": {
          "base_uri": "https://localhost:8080/"
        },
        "id": "GocjILzSacXn",
        "outputId": "e792f23c-0786-421b-8663-73600e0da798"
      },
      "source": [
        "!ls -ar"
      ],
      "execution_count": 5,
      "outputs": [
        {
          "output_type": "stream",
          "text": [
            "sample_data  .config  ..  .\n"
          ],
          "name": "stdout"
        }
      ]
    },
    {
      "cell_type": "code",
      "metadata": {
        "colab": {
          "base_uri": "https://localhost:8080/"
        },
        "id": "CooUpqGQacRx",
        "outputId": "910782a7-88f5-408d-ae9b-672949e38f27"
      },
      "source": [
        "!ls -aR"
      ],
      "execution_count": 6,
      "outputs": [
        {
          "output_type": "stream",
          "text": [
            ".:\n",
            ".  ..  .config\tsample_data\n",
            "\n",
            "./.config:\n",
            ".\t       config_sentinel\t.last_opt_in_prompt.yaml  logs\n",
            "..\t       configurations\t.last_survey_prompt.yaml\n",
            "active_config  gce\t\t.last_update_check.json\n",
            "\n",
            "./.config/configurations:\n",
            ".  ..  config_default\n",
            "\n",
            "./.config/logs:\n",
            ".  ..  2021.04.21\n",
            "\n",
            "./.config/logs/2021.04.21:\n",
            ".   13.37.59.675948.log  13.38.33.645732.log  13.38.55.616588.log\n",
            "..  13.38.18.505216.log  13.38.39.238346.log  13.38.56.174593.log\n",
            "\n",
            "./sample_data:\n",
            ".\t       california_housing_test.csv   mnist_train_small.csv\n",
            "..\t       california_housing_train.csv  README.md\n",
            "anscombe.json  mnist_test.csv\n"
          ],
          "name": "stdout"
        }
      ]
    },
    {
      "cell_type": "markdown",
      "metadata": {
        "id": "DHUjrB8kD-FS"
      },
      "source": [
        "## pwd\n",
        "\n",
        "현재 경로 보기"
      ]
    },
    {
      "cell_type": "code",
      "metadata": {
        "colab": {
          "base_uri": "https://localhost:8080/"
        },
        "id": "rqK6-6FKEAQd",
        "outputId": "651648cb-537a-4b51-bf4c-23a038e391e4"
      },
      "source": [
        "!pwd"
      ],
      "execution_count": 7,
      "outputs": [
        {
          "output_type": "stream",
          "text": [
            "/content\n"
          ],
          "name": "stdout"
        }
      ]
    },
    {
      "cell_type": "markdown",
      "metadata": {
        "id": "pg6jiOHYEI7f"
      },
      "source": [
        "## cd\n",
        "\n",
        "디렉토리 변경. change directory\n",
        "\n",
        "    %cd 디렉토리명\n",
        "\n",
        "    %cd ..    # 상위 디렉토리로 이동\n",
        "\n",
        "    %cd -     # 이전에 위치했던 디렉토리로 이동"
      ]
    },
    {
      "cell_type": "markdown",
      "metadata": {
        "id": "1S9PmkAZDdn6"
      },
      "source": [
        "%cd\n",
        "\n",
        "지속적으로 디렉토리 변경"
      ]
    },
    {
      "cell_type": "code",
      "metadata": {
        "colab": {
          "base_uri": "https://localhost:8080/"
        },
        "id": "EqRuiL3awYkX",
        "outputId": "ba97d77f-8127-4768-fbe3-4b6c1d1bcae3"
      },
      "source": [
        "%cd .."
      ],
      "execution_count": 8,
      "outputs": [
        {
          "output_type": "stream",
          "text": [
            "/\n"
          ],
          "name": "stdout"
        }
      ]
    },
    {
      "cell_type": "code",
      "metadata": {
        "colab": {
          "base_uri": "https://localhost:8080/"
        },
        "id": "7fbwzs-OE9w3",
        "outputId": "c461412c-5a81-4742-d2e7-e1d258e39182"
      },
      "source": [
        "!pwd"
      ],
      "execution_count": 9,
      "outputs": [
        {
          "output_type": "stream",
          "text": [
            "/\n"
          ],
          "name": "stdout"
        }
      ]
    },
    {
      "cell_type": "markdown",
      "metadata": {
        "id": "KF_sEEAdEOpB"
      },
      "source": [
        "!cd\n",
        "\n",
        "현재 실행 명령어에서만 디렉토리 변경"
      ]
    },
    {
      "cell_type": "code",
      "metadata": {
        "id": "Mjd9X7M5ENo9"
      },
      "source": [
        "!cd /content"
      ],
      "execution_count": 10,
      "outputs": []
    },
    {
      "cell_type": "code",
      "metadata": {
        "colab": {
          "base_uri": "https://localhost:8080/"
        },
        "id": "sKxEt6NwE3dh",
        "outputId": "bc944a5a-ec3c-4505-99fb-6b93489a4c51"
      },
      "source": [
        "!pwd"
      ],
      "execution_count": 11,
      "outputs": [
        {
          "output_type": "stream",
          "text": [
            "/\n"
          ],
          "name": "stdout"
        }
      ]
    },
    {
      "cell_type": "markdown",
      "metadata": {
        "id": "yqHqmCuEOsPc"
      },
      "source": [
        "## mkdir\n",
        "\n",
        "디렉토리 생성. make directory\n",
        "\n",
        "    !mkdir 디렉토리명"
      ]
    },
    {
      "cell_type": "code",
      "metadata": {
        "id": "uyhwPfAhOWU7",
        "colab": {
          "base_uri": "https://localhost:8080/"
        },
        "outputId": "b91a7ac8-3bb9-4a81-95a3-8accde28aa9d"
      },
      "source": [
        "%cd /content\n",
        "!mkdir example"
      ],
      "execution_count": 12,
      "outputs": [
        {
          "output_type": "stream",
          "text": [
            "/content\n"
          ],
          "name": "stdout"
        }
      ]
    },
    {
      "cell_type": "code",
      "metadata": {
        "colab": {
          "base_uri": "https://localhost:8080/"
        },
        "id": "7Rl58phNckIO",
        "outputId": "d57de6b8-85b6-4afc-aa1f-dbd5bf63ec42"
      },
      "source": [
        "!ls"
      ],
      "execution_count": 13,
      "outputs": [
        {
          "output_type": "stream",
          "text": [
            "example  sample_data\n"
          ],
          "name": "stdout"
        }
      ]
    },
    {
      "cell_type": "markdown",
      "metadata": {
        "id": "s4lGq8jff8TA"
      },
      "source": [
        "## rmdir\n",
        "\n",
        "비어있는 디렉토리 삭제. remove empty directory\n",
        "\n",
        "    !rmdir 디렉토리명"
      ]
    },
    {
      "cell_type": "code",
      "metadata": {
        "id": "OArA8YYIf7-i"
      },
      "source": [
        "!rmdir example"
      ],
      "execution_count": 14,
      "outputs": []
    },
    {
      "cell_type": "code",
      "metadata": {
        "colab": {
          "base_uri": "https://localhost:8080/"
        },
        "id": "yrhTmhzqgy08",
        "outputId": "bb012664-b2bb-462d-be2b-610a975ca633"
      },
      "source": [
        "!ls"
      ],
      "execution_count": 15,
      "outputs": [
        {
          "output_type": "stream",
          "text": [
            "sample_data\n"
          ],
          "name": "stdout"
        }
      ]
    },
    {
      "cell_type": "markdown",
      "metadata": {
        "id": "ZM0m_Ra8E_OB"
      },
      "source": [
        "## cp\n",
        "\n",
        "디렉토리/파일 복사. copy\n",
        "\n",
        "    !cp file1 file2        # file1 파일을 복사하여 file2 파일 생성\n",
        "    \n",
        "    !cp file1 dir1/        # file1 파일을 dir/ 디렉토리 안에 복사\n",
        "\n",
        "    !cp file1 file2 dir1/  # 한번에 여러개 파일을 디렉토리에 복사\n",
        "\n",
        "    !cp -r dir1/ dir2/     # dir1/ 디렉토리 전체를 복사 \n",
        "    \n",
        "    \n",
        "[간단한 option 설명]\n",
        "\n",
        "    -f : 복사 대상이 이미 존재하면 복사 대상 파일을 강제로 지우고 복사\n",
        "    -i : 복사 대상이 이미 존재하면 사용자에게 덮어씌울건지 여부를 확인\n",
        "    -r : 디렉토리를 복사할 경우 하위 디렉토리와 파일을 모두 복사\n"
      ]
    },
    {
      "cell_type": "code",
      "metadata": {
        "id": "xNxG1BejFLat",
        "colab": {
          "base_uri": "https://localhost:8080/"
        },
        "outputId": "565f9fcd-f6fc-4d46-bb57-2604024bfd9f"
      },
      "source": [
        "%cd /content/sample_data\n",
        "!cp /content/sample_data/mnist_test.csv /content/mnist_test.csv"
      ],
      "execution_count": 16,
      "outputs": [
        {
          "output_type": "stream",
          "text": [
            "/content/sample_data\n"
          ],
          "name": "stdout"
        }
      ]
    },
    {
      "cell_type": "code",
      "metadata": {
        "colab": {
          "base_uri": "https://localhost:8080/"
        },
        "id": "wLZmZtVzdMLx",
        "outputId": "89298238-ad67-4fa4-c832-932042f1c8d4"
      },
      "source": [
        "%cd /content\n",
        "!ls"
      ],
      "execution_count": 17,
      "outputs": [
        {
          "output_type": "stream",
          "text": [
            "/content\n",
            "mnist_test.csv\tsample_data\n"
          ],
          "name": "stdout"
        }
      ]
    },
    {
      "cell_type": "code",
      "metadata": {
        "colab": {
          "base_uri": "https://localhost:8080/"
        },
        "id": "cmuJkgTldSS-",
        "outputId": "74233022-5eb3-46f2-a42b-bec54bf84e2d"
      },
      "source": [
        "!cp -r /content/sample_data /content/sample_data2\n",
        "!ls"
      ],
      "execution_count": 18,
      "outputs": [
        {
          "output_type": "stream",
          "text": [
            "mnist_test.csv\tsample_data  sample_data2\n"
          ],
          "name": "stdout"
        }
      ]
    },
    {
      "cell_type": "markdown",
      "metadata": {
        "id": "cTBfPJr6GQkR"
      },
      "source": [
        "## ln\n",
        "\n",
        "하드 링크 또는 심볼릭 링크를 생성  \n",
        "옵션 없이 실행하면 하드 링크 생성, -s 옵션으로 실행하면 심볼릭 링크 생성\n",
        "\n",
        "    !ln 옵션 원본_파일_대상명\n",
        "\n",
        "하드링크 란?  \n",
        "하드 링크 파일은 원본 파일과 동일한 내용의 다른 파일이라고 할 수 있다.  \n",
        "같은 아이노드 값을 가지고 있기 때문에 원본 파일을 직접적으로 키며 원본 파일을 수정하면 하드 링크 파일도 수정되고, 하드 링크 파일을 수정하면 원본 파일도 수정된다.  \n",
        "\n",
        "심볼링링크 란?  \n",
        "심볼릭(=소프트) 링크는 바로가기 같은 개념으로 심볼링 링크 파일은 원본 파일과 다른 아이노드를 가져 원본과 생성된 링크 파일은 완전히 다른 파일로 관리되어 연결되는 효과만 가진다. 소프트링크 특성상, 원본 파일이 삭제되면 소프트 링크 파일은 무용지물이다.\n"
      ]
    },
    {
      "cell_type": "code",
      "metadata": {
        "colab": {
          "base_uri": "https://localhost:8080/"
        },
        "id": "kwCb9UnPLvhn",
        "outputId": "6a1a7b64-2da4-486e-e54b-611d4984d2d6"
      },
      "source": [
        "# 구글 드라이브 마운트\n",
        "%cd ..\n",
        "from google.colab import drive\n",
        "drive.mount('/content/gdrive')"
      ],
      "execution_count": null,
      "outputs": [
        {
          "output_type": "stream",
          "text": [
            "/\n",
            "Mounted at /content/gdrive\n"
          ],
          "name": "stdout"
        }
      ]
    },
    {
      "cell_type": "code",
      "metadata": {
        "colab": {
          "base_uri": "https://localhost:8080/"
        },
        "id": "WAJMZlJnMD_3",
        "outputId": "4b51aa30-be88-4e3e-bd45-1707e89c69a9"
      },
      "source": [
        "!ln -s /content/gdrive/MyDrive/ /content/mydrive\n",
        "!ls /content/mydrive"
      ],
      "execution_count": null,
      "outputs": [
        {
          "output_type": "stream",
          "text": [
            " 개인파일\t       images2\t\t\t\t      re_w3.h5\n",
            "'빅데이터 수업 2020'   images3\t\t\t\t      samples4\n",
            " bonjour\t       loader3.py\t\t\t      samples6\n",
            " cat.png\t       loader_leaf.py\t\t\t      util.py\n",
            " chromedriver\t       my_cal.py\t\t\t      weight\n",
            "'Colab Notebooks'      MyDrive\t\t\t\t      yolo2\n",
            " darknet.py\t      'nfv-neja-rpv - 2021년 2월 15일.gjam'   yolo4\n",
            " data\t\t       Portf\t\t\t\t      yolo5\n",
            " ex1.txt\t       __pycache__\t\t\t      yolov3.weights\n",
            " images\t\t       re_w2.h5\n"
          ],
          "name": "stdout"
        }
      ]
    },
    {
      "cell_type": "markdown",
      "metadata": {
        "id": "QRvDpklOGJF8"
      },
      "source": [
        "## sed\n",
        "\n",
        "스트림 편집기  \n",
        "각 라인을 읽을 때 마다 대치작업을 실시하여 일치하는 문자열이 있으면 그 문자열을 대치한 후 출력하고 일치하는 문자열이 없으면 그 라인은 수정되지 않고 그대로 출력된다. sed 명령어 중 s/ 를 사용하면 치환하겠다는 의미이다.\n",
        "\n",
        "예시)\n",
        "\n",
        "    !sed -i 's/OPENCV=0/OPENCV=1/' Makefile\n",
        "\n",
        "Makefile 파일 내용 중에 OPENCV=0 가 있으면 OPENCV=1 으로 변경하겠다.  \n",
        "-i 옵션 : 대소문자를 구분하지 않겠다는 뜻  \n"
      ]
    },
    {
      "cell_type": "markdown",
      "metadata": {
        "id": "U4oGd_e7vqsn"
      },
      "source": [
        "```\n",
        "%cd /content/darknet\n",
        "!sed -i 's/OPENCV=0/OPENCV=1/' Makefile\n",
        "!sed -i 's/GPU=0/GPU=1/' Makefile\n",
        "!sed -i 's/CUDNN=0/CUDNN=1/' Makefile\n",
        "!sed -i 's/CUDNN_HALF=0/CUDNN_HALF=1/' Makefile\n",
        "!sed -i 's/LIBSO=0/LIBSO=1/' Makefile\n",
        "```"
      ]
    },
    {
      "cell_type": "markdown",
      "metadata": {
        "id": "dUssGqVXSskT"
      },
      "source": [
        "![image.png](data:image/png;base64,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)"
      ]
    },
    {
      "cell_type": "markdown",
      "metadata": {
        "id": "GrcdFSN_Tw-h"
      },
      "source": [
        "위의 결과를 보면 OPENCV=0, GPU=0, CUDNN=0, CUDNN_HALF=0, LIBSO=0 에 해당하는 값들이  \n",
        "OPENCV=1, GPU=1, CUDNN=1, CUDNN_HALF=1, LIBSO=1 로 수정되었다."
      ]
    },
    {
      "cell_type": "markdown",
      "metadata": {
        "id": "ymUyz5ZjRkt6"
      },
      "source": [
        "## make\n",
        "\n",
        "파일 관리 유틸리티로 반복적인 명령 자동화를 위한 것이며 Makefile 이 있는 디렉토리에서 make 만 치면 컴파일된다.  \n",
        "파일 간의 종속관계를 파악하여 Makefile 에 적힌 대로 컴파일러에 명령하여 SHELL 명령을 순차적으로 실행한다.  \n",
        "\n",
        "Makefile 구조\n",
        "\n",
        "    목적파일(Target) : 명령어가 수행되어 나온 결과를 저장할 파일\n",
        "    의존성(Dependency) : 목적파일을 만들기 위해 필요한 재료\n",
        "    명령어(Command) : 실행 되어야 할 명령어들\n",
        "    매크로(macro) : 코드를 단순화 시키기 위한 방법\n",
        "\n",
        "\n",
        "\n",
        "```\n",
        "%cd /content/darknet\n",
        "!make\n",
        "```\n",
        "\n",
        "\n",
        "출처 : https://nicewoong.github.io/development/2018/02/24/linux-makefile/\n"
      ]
    },
    {
      "cell_type": "markdown",
      "metadata": {
        "id": "eU8doOaCRl9q"
      },
      "source": [
        "## pip\n",
        "\n",
        "파이썬으로 작성된 패키지 라이브러리를 관리해주는 시스템\n",
        "\n",
        "    !pip list                    # 설치된 파이썬 패키지 목록 로드\n",
        "\n",
        "    !pip intall --upgrade pip    # 최신 버전으로 업데이트\n",
        "\n",
        "    !pip install 패키지명        # 파이썬 패키지 설치\n",
        "\n",
        "    !pip uninstall 패키지명      # 설치된 패키지 제거"
      ]
    },
    {
      "cell_type": "code",
      "metadata": {
        "colab": {
          "base_uri": "https://localhost:8080/"
        },
        "id": "KB5xUsTTWD8R",
        "outputId": "7be09c76-0ad8-4f2b-94ab-e594f7d8bfeb"
      },
      "source": [
        "!pip list"
      ],
      "execution_count": 19,
      "outputs": [
        {
          "output_type": "stream",
          "text": [
            "Package                       Version       \n",
            "----------------------------- --------------\n",
            "absl-py                       0.12.0        \n",
            "alabaster                     0.7.12        \n",
            "albumentations                0.1.12        \n",
            "altair                        4.1.0         \n",
            "appdirs                       1.4.4         \n",
            "argon2-cffi                   20.1.0        \n",
            "astor                         0.8.1         \n",
            "astropy                       4.2.1         \n",
            "astunparse                    1.6.3         \n",
            "async-generator               1.10          \n",
            "atari-py                      0.2.6         \n",
            "atomicwrites                  1.4.0         \n",
            "attrs                         20.3.0        \n",
            "audioread                     2.1.9         \n",
            "autograd                      1.3           \n",
            "Babel                         2.9.0         \n",
            "backcall                      0.2.0         \n",
            "beautifulsoup4                4.6.3         \n",
            "bleach                        3.3.0         \n",
            "blis                          0.4.1         \n",
            "bokeh                         2.3.1         \n",
            "Bottleneck                    1.3.2         \n",
            "branca                        0.4.2         \n",
            "bs4                           0.0.1         \n",
            "CacheControl                  0.12.6        \n",
            "cachetools                    4.2.1         \n",
            "catalogue                     1.0.0         \n",
            "certifi                       2020.12.5     \n",
            "cffi                          1.14.5        \n",
            "chainer                       7.4.0         \n",
            "chardet                       3.0.4         \n",
            "click                         7.1.2         \n",
            "cloudpickle                   1.3.0         \n",
            "cmake                         3.12.0        \n",
            "cmdstanpy                     0.9.5         \n",
            "colorcet                      2.0.6         \n",
            "colorlover                    0.3.0         \n",
            "community                     1.0.0b1       \n",
            "contextlib2                   0.5.5         \n",
            "convertdate                   2.3.2         \n",
            "coverage                      3.7.1         \n",
            "coveralls                     0.5           \n",
            "crcmod                        1.7           \n",
            "cufflinks                     0.17.3        \n",
            "cvxopt                        1.2.6         \n",
            "cvxpy                         1.0.31        \n",
            "cycler                        0.10.0        \n",
            "cymem                         2.0.5         \n",
            "Cython                        0.29.22       \n",
            "daft                          0.0.4         \n",
            "dask                          2.12.0        \n",
            "datascience                   0.10.6        \n",
            "debugpy                       1.0.0         \n",
            "decorator                     4.4.2         \n",
            "defusedxml                    0.7.1         \n",
            "descartes                     1.1.0         \n",
            "dill                          0.3.3         \n",
            "distributed                   1.25.3        \n",
            "dlib                          19.18.0       \n",
            "dm-tree                       0.1.6         \n",
            "docopt                        0.6.2         \n",
            "docutils                      0.17          \n",
            "dopamine-rl                   1.0.5         \n",
            "earthengine-api               0.1.260       \n",
            "easydict                      1.9           \n",
            "ecos                          2.0.7.post1   \n",
            "editdistance                  0.5.3         \n",
            "en-core-web-sm                2.2.5         \n",
            "entrypoints                   0.3           \n",
            "ephem                         3.7.7.1       \n",
            "et-xmlfile                    1.0.1         \n",
            "fa2                           0.3.5         \n",
            "fancyimpute                   0.4.3         \n",
            "fastai                        1.0.61        \n",
            "fastdtw                       0.3.4         \n",
            "fastprogress                  1.0.0         \n",
            "fastrlock                     0.6           \n",
            "fbprophet                     0.7.1         \n",
            "feather-format                0.4.1         \n",
            "filelock                      3.0.12        \n",
            "firebase-admin                4.4.0         \n",
            "fix-yahoo-finance             0.0.22        \n",
            "Flask                         1.1.2         \n",
            "flatbuffers                   1.12          \n",
            "folium                        0.8.3         \n",
            "future                        0.16.0        \n",
            "gast                          0.3.3         \n",
            "GDAL                          2.2.2         \n",
            "gdown                         3.6.4         \n",
            "gensim                        3.6.0         \n",
            "geographiclib                 1.50          \n",
            "geopy                         1.17.0        \n",
            "gin-config                    0.4.0         \n",
            "glob2                         0.7           \n",
            "google                        2.0.3         \n",
            "google-api-core               1.26.3        \n",
            "google-api-python-client      1.12.8        \n",
            "google-auth                   1.28.1        \n",
            "google-auth-httplib2          0.0.4         \n",
            "google-auth-oauthlib          0.4.4         \n",
            "google-cloud-bigquery         1.21.0        \n",
            "google-cloud-bigquery-storage 1.1.0         \n",
            "google-cloud-core             1.0.3         \n",
            "google-cloud-datastore        1.8.0         \n",
            "google-cloud-firestore        1.7.0         \n",
            "google-cloud-language         1.2.0         \n",
            "google-cloud-storage          1.18.1        \n",
            "google-cloud-translate        1.5.0         \n",
            "google-colab                  1.0.0         \n",
            "google-pasta                  0.2.0         \n",
            "google-resumable-media        0.4.1         \n",
            "googleapis-common-protos      1.53.0        \n",
            "googledrivedownloader         0.4           \n",
            "graphviz                      0.10.1        \n",
            "greenlet                      1.0.0         \n",
            "grpcio                        1.32.0        \n",
            "gspread                       3.0.1         \n",
            "gspread-dataframe             3.0.8         \n",
            "gym                           0.17.3        \n",
            "h5py                          2.10.0        \n",
            "HeapDict                      1.0.1         \n",
            "hijri-converter               2.1.1         \n",
            "holidays                      0.10.5.2      \n",
            "holoviews                     1.14.3        \n",
            "html5lib                      1.0.1         \n",
            "httpimport                    0.5.18        \n",
            "httplib2                      0.17.4        \n",
            "httplib2shim                  0.0.3         \n",
            "humanize                      0.5.1         \n",
            "hyperopt                      0.1.2         \n",
            "ideep4py                      2.0.0.post3   \n",
            "idna                          2.10          \n",
            "imageio                       2.4.1         \n",
            "imagesize                     1.2.0         \n",
            "imbalanced-learn              0.4.3         \n",
            "imblearn                      0.0           \n",
            "imgaug                        0.2.9         \n",
            "importlib-metadata            3.10.1        \n",
            "importlib-resources           5.1.2         \n",
            "imutils                       0.5.4         \n",
            "inflect                       2.1.0         \n",
            "iniconfig                     1.1.1         \n",
            "intel-openmp                  2021.2.0      \n",
            "intervaltree                  2.1.0         \n",
            "ipykernel                     4.10.1        \n",
            "ipython                       5.5.0         \n",
            "ipython-genutils              0.2.0         \n",
            "ipython-sql                   0.3.9         \n",
            "ipywidgets                    7.6.3         \n",
            "itsdangerous                  1.1.0         \n",
            "jax                           0.2.12        \n",
            "jaxlib                        0.1.65+cuda110\n",
            "jdcal                         1.4.1         \n",
            "jedi                          0.18.0        \n",
            "jieba                         0.42.1        \n",
            "Jinja2                        2.11.3        \n",
            "joblib                        1.0.1         \n",
            "jpeg4py                       0.1.4         \n",
            "jsonschema                    2.6.0         \n",
            "jupyter                       1.0.0         \n",
            "jupyter-client                5.3.5         \n",
            "jupyter-console               5.2.0         \n",
            "jupyter-core                  4.7.1         \n",
            "jupyterlab-pygments           0.1.2         \n",
            "jupyterlab-widgets            1.0.0         \n",
            "kaggle                        1.5.12        \n",
            "kapre                         0.1.3.1       \n",
            "Keras                         2.4.3         \n",
            "Keras-Preprocessing           1.1.2         \n",
            "keras-vis                     0.4.1         \n",
            "kiwisolver                    1.3.1         \n",
            "knnimpute                     0.1.0         \n",
            "korean-lunar-calendar         0.2.1         \n",
            "librosa                       0.8.0         \n",
            "lightgbm                      2.2.3         \n",
            "llvmlite                      0.34.0        \n",
            "lmdb                          0.99          \n",
            "LunarCalendar                 0.0.9         \n",
            "lxml                          4.2.6         \n",
            "Markdown                      3.3.4         \n",
            "MarkupSafe                    1.1.1         \n",
            "matplotlib                    3.2.2         \n",
            "matplotlib-venn               0.11.6        \n",
            "missingno                     0.4.2         \n",
            "mistune                       0.8.4         \n",
            "mizani                        0.6.0         \n",
            "mkl                           2019.0        \n",
            "mlxtend                       0.14.0        \n",
            "more-itertools                8.7.0         \n",
            "moviepy                       0.2.3.5       \n",
            "mpmath                        1.2.1         \n",
            "msgpack                       1.0.2         \n",
            "multiprocess                  0.70.11.1     \n",
            "multitasking                  0.0.9         \n",
            "murmurhash                    1.0.5         \n",
            "music21                       5.5.0         \n",
            "natsort                       5.5.0         \n",
            "nbclient                      0.5.3         \n",
            "nbconvert                     5.6.1         \n",
            "nbformat                      5.1.3         \n",
            "nest-asyncio                  1.5.1         \n",
            "networkx                      2.5.1         \n",
            "nibabel                       3.0.2         \n",
            "nltk                          3.2.5         \n",
            "notebook                      5.3.1         \n",
            "np-utils                      0.5.12.1      \n",
            "numba                         0.51.2        \n",
            "numexpr                       2.7.3         \n",
            "numpy                         1.19.5        \n",
            "nvidia-ml-py3                 7.352.0       \n",
            "oauth2client                  4.1.3         \n",
            "oauthlib                      3.1.0         \n",
            "okgrade                       0.4.3         \n",
            "opencv-contrib-python         4.1.2.30      \n",
            "opencv-python                 4.1.2.30      \n",
            "openpyxl                      2.5.9         \n",
            "opt-einsum                    3.3.0         \n",
            "osqp                          0.6.2.post0   \n",
            "packaging                     20.9          \n",
            "palettable                    3.3.0         \n",
            "pandas                        1.1.5         \n",
            "pandas-datareader             0.9.0         \n",
            "pandas-gbq                    0.13.3        \n",
            "pandas-profiling              1.4.1         \n",
            "pandocfilters                 1.4.3         \n",
            "panel                         0.11.2        \n",
            "param                         1.10.1        \n",
            "parso                         0.8.2         \n",
            "pathlib                       1.0.1         \n",
            "patsy                         0.5.1         \n",
            "pexpect                       4.8.0         \n",
            "pickleshare                   0.7.5         \n",
            "Pillow                        7.1.2         \n",
            "pip                           19.3.1        \n",
            "pip-tools                     4.5.1         \n",
            "plac                          1.1.3         \n",
            "plotly                        4.4.1         \n",
            "plotnine                      0.6.0         \n",
            "pluggy                        0.7.1         \n",
            "pooch                         1.3.0         \n",
            "portpicker                    1.3.1         \n",
            "prefetch-generator            1.0.1         \n",
            "preshed                       3.0.5         \n",
            "prettytable                   2.1.0         \n",
            "progressbar2                  3.38.0        \n",
            "prometheus-client             0.10.1        \n",
            "promise                       2.3           \n",
            "prompt-toolkit                1.0.18        \n",
            "protobuf                      3.12.4        \n",
            "psutil                        5.4.8         \n",
            "psycopg2                      2.7.6.1       \n",
            "ptyprocess                    0.7.0         \n",
            "py                            1.10.0        \n",
            "pyarrow                       3.0.0         \n",
            "pyasn1                        0.4.8         \n",
            "pyasn1-modules                0.2.8         \n",
            "pycocotools                   2.0.2         \n",
            "pycparser                     2.20          \n",
            "pyct                          0.4.8         \n",
            "pydata-google-auth            1.1.0         \n",
            "pydot                         1.3.0         \n",
            "pydot-ng                      2.0.0         \n",
            "pydotplus                     2.0.2         \n",
            "PyDrive                       1.3.1         \n",
            "pyemd                         0.5.1         \n",
            "pyerfa                        1.7.2         \n",
            "pyglet                        1.5.0         \n",
            "Pygments                      2.6.1         \n",
            "pygobject                     3.26.1        \n",
            "pymc3                         3.7           \n",
            "PyMeeus                       0.5.11        \n",
            "pymongo                       3.11.3        \n",
            "pymystem3                     0.2.0         \n",
            "PyOpenGL                      3.1.5         \n",
            "pyparsing                     2.4.7         \n",
            "pyrsistent                    0.17.3        \n",
            "pysndfile                     1.3.8         \n",
            "PySocks                       1.7.1         \n",
            "pystan                        2.19.1.1      \n",
            "pytest                        3.6.4         \n",
            "python-apt                    0.0.0         \n",
            "python-chess                  0.23.11       \n",
            "python-dateutil               2.8.1         \n",
            "python-louvain                0.15          \n",
            "python-slugify                4.0.1         \n",
            "python-utils                  2.5.6         \n",
            "pytz                          2018.9        \n",
            "pyviz-comms                   2.0.1         \n",
            "PyWavelets                    1.1.1         \n",
            "PyYAML                        3.13          \n",
            "pyzmq                         22.0.3        \n",
            "qdldl                         0.1.5.post0   \n",
            "qtconsole                     5.0.3         \n",
            "QtPy                          1.9.0         \n",
            "regex                         2019.12.20    \n",
            "requests                      2.23.0        \n",
            "requests-oauthlib             1.3.0         \n",
            "resampy                       0.2.2         \n",
            "retrying                      1.3.3         \n",
            "rpy2                          3.4.3         \n",
            "rsa                           4.7.2         \n",
            "scikit-image                  0.16.2        \n",
            "scikit-learn                  0.22.2.post1  \n",
            "scipy                         1.4.1         \n",
            "screen-resolution-extra       0.0.0         \n",
            "scs                           2.1.3         \n",
            "seaborn                       0.11.1        \n",
            "Send2Trash                    1.5.0         \n",
            "setuptools                    56.0.0        \n",
            "setuptools-git                1.2           \n",
            "Shapely                       1.7.1         \n",
            "simplegeneric                 0.8.1         \n",
            "six                           1.15.0        \n",
            "sklearn                       0.0           \n",
            "sklearn-pandas                1.8.0         \n",
            "smart-open                    5.0.0         \n",
            "snowballstemmer               2.1.0         \n",
            "sortedcontainers              2.3.0         \n",
            "SoundFile                     0.10.3.post1  \n",
            "spacy                         2.2.4         \n",
            "Sphinx                        1.8.5         \n",
            "sphinxcontrib-serializinghtml 1.1.4         \n",
            "sphinxcontrib-websupport      1.2.4         \n",
            "SQLAlchemy                    1.4.7         \n",
            "sqlparse                      0.4.1         \n",
            "srsly                         1.0.5         \n",
            "statsmodels                   0.10.2        \n",
            "sympy                         1.7.1         \n",
            "tables                        3.4.4         \n",
            "tabulate                      0.8.9         \n",
            "tblib                         1.7.0         \n",
            "tensorboard                   2.4.1         \n",
            "tensorboard-plugin-wit        1.8.0         \n",
            "tensorflow                    2.4.1         \n",
            "tensorflow-datasets           4.0.1         \n",
            "tensorflow-estimator          2.4.0         \n",
            "tensorflow-gcs-config         2.4.0         \n",
            "tensorflow-hub                0.12.0        \n",
            "tensorflow-metadata           0.29.0        \n",
            "tensorflow-probability        0.12.1        \n",
            "termcolor                     1.1.0         \n",
            "terminado                     0.9.4         \n",
            "testpath                      0.4.4         \n",
            "text-unidecode                1.3           \n",
            "textblob                      0.15.3        \n",
            "textgenrnn                    1.4.1         \n",
            "Theano                        1.0.5         \n",
            "thinc                         7.4.0         \n",
            "tifffile                      2021.4.8      \n",
            "toml                          0.10.2        \n",
            "toolz                         0.11.1        \n",
            "torch                         1.8.1+cu101   \n",
            "torchsummary                  1.5.1         \n",
            "torchtext                     0.9.1         \n",
            "torchvision                   0.9.1+cu101   \n",
            "tornado                       5.1.1         \n",
            "tqdm                          4.41.1        \n",
            "traitlets                     5.0.5         \n",
            "tweepy                        3.10.0        \n",
            "typeguard                     2.7.1         \n",
            "typing-extensions             3.7.4.3       \n",
            "tzlocal                       1.5.1         \n",
            "uritemplate                   3.0.1         \n",
            "urllib3                       1.24.3        \n",
            "vega-datasets                 0.9.0         \n",
            "wasabi                        0.8.2         \n",
            "wcwidth                       0.2.5         \n",
            "webencodings                  0.5.1         \n",
            "Werkzeug                      1.0.1         \n",
            "wheel                         0.36.2        \n",
            "widgetsnbextension            3.5.1         \n",
            "wordcloud                     1.5.0         \n",
            "wrapt                         1.12.1        \n",
            "xarray                        0.15.1        \n",
            "xgboost                       0.90          \n",
            "xkit                          0.0.0         \n",
            "xlrd                          1.1.0         \n",
            "xlwt                          1.3.0         \n",
            "yellowbrick                   0.9.1         \n",
            "zict                          2.0.0         \n",
            "zipp                          3.4.1         \n"
          ],
          "name": "stdout"
        }
      ]
    },
    {
      "cell_type": "code",
      "metadata": {
        "colab": {
          "base_uri": "https://localhost:8080/"
        },
        "id": "3TlFd1ZdvuSM",
        "outputId": "2c12f172-17fd-4ca3-db1e-c3ab2cbaf14f"
      },
      "source": [
        "!pip install pickle5"
      ],
      "execution_count": 20,
      "outputs": [
        {
          "output_type": "stream",
          "text": [
            "Collecting pickle5\n",
            "\u001b[?25l  Downloading https://files.pythonhosted.org/packages/f7/4c/5c4dd0462c8d3a6bc4af500a6af240763c2ebd1efdc736fc2c946d44b70a/pickle5-0.0.11.tar.gz (132kB)\n",
            "\r\u001b[K     |██▌                             | 10kB 15.6MB/s eta 0:00:01\r\u001b[K     |█████                           | 20kB 19.3MB/s eta 0:00:01\r\u001b[K     |███████▍                        | 30kB 23.5MB/s eta 0:00:01\r\u001b[K     |██████████                      | 40kB 24.8MB/s eta 0:00:01\r\u001b[K     |████████████▍                   | 51kB 25.2MB/s eta 0:00:01\r\u001b[K     |██████████████▉                 | 61kB 18.5MB/s eta 0:00:01\r\u001b[K     |█████████████████▍              | 71kB 18.5MB/s eta 0:00:01\r\u001b[K     |███████████████████▉            | 81kB 17.1MB/s eta 0:00:01\r\u001b[K     |██████████████████████▎         | 92kB 16.7MB/s eta 0:00:01\r\u001b[K     |████████████████████████▉       | 102kB 17.9MB/s eta 0:00:01\r\u001b[K     |███████████████████████████▎    | 112kB 17.9MB/s eta 0:00:01\r\u001b[K     |█████████████████████████████▊  | 122kB 17.9MB/s eta 0:00:01\r\u001b[K     |████████████████████████████████| 133kB 17.9MB/s \n",
            "\u001b[?25hBuilding wheels for collected packages: pickle5\n",
            "  Building wheel for pickle5 (setup.py) ... \u001b[?25l\u001b[?25hdone\n",
            "  Created wheel for pickle5: filename=pickle5-0.0.11-cp37-cp37m-linux_x86_64.whl size=219262 sha256=bea04b2699cb605981851c6096538b9b26241f41071cc873380dab61b43c5e22\n",
            "  Stored in directory: /root/.cache/pip/wheels/a6/90/95/f889ca4aa8b0e0c7f21c8470b6f5d6032f0390a3a141a9a3bd\n",
            "Successfully built pickle5\n",
            "Installing collected packages: pickle5\n",
            "Successfully installed pickle5-0.0.11\n"
          ],
          "name": "stdout"
        }
      ]
    },
    {
      "cell_type": "code",
      "metadata": {
        "colab": {
          "base_uri": "https://localhost:8080/"
        },
        "id": "d6lcUWoVVxP8",
        "outputId": "2142c5fd-8493-4e93-f7bd-b40e91bcd4a7"
      },
      "source": [
        "!pip uninstall pickle5"
      ],
      "execution_count": 21,
      "outputs": [
        {
          "output_type": "stream",
          "text": [
            "Uninstalling pickle5-0.0.11:\n",
            "  Would remove:\n",
            "    /usr/local/lib/python3.7/dist-packages/pickle5-0.0.11.dist-info/*\n",
            "    /usr/local/lib/python3.7/dist-packages/pickle5/*\n",
            "Proceed (y/n)? y\n",
            "  Successfully uninstalled pickle5-0.0.11\n"
          ],
          "name": "stdout"
        }
      ]
    }
  ]
}